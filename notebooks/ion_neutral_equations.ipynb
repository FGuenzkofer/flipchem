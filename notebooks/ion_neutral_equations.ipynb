{
 "cells": [
  {
   "cell_type": "markdown",
   "metadata": {},
   "source": [
    "# Origin of ion-neutral collision equations used in `msis.py`\n",
    "\n",
    "The following briefly explains the origins of the ion-neutral collision equations used in `msis.py`. First, the equation for ion-neutral collisions is taken from the year 2000 edition of \"Ionospheres: Physics, Plasma Physics, and Chemistry\" by Schunk and Nagy.\n",
    "\n",
    "## Maxwell molecule collisions\n",
    "\n",
    "The equation for collisions of Maxwell molecules (eq 4.88) and reduced mass (eq 4.98) are:\n",
    "\n",
    "$$\\nu_{in} = 2.21 \\pi\\frac{m_{n} n_{n}}{{m_{i} + m_{n}}} \\sqrt{\\frac{\\gamma_n e^{2}}{\\mu_{in}}}, \\quad \\mu_{in} = \\frac{m_{i} m_{n}}{m_{i} + m_{n}}$$\n",
    "\n",
    "which simplifies to:\n",
    "\n",
    "$$\\nu_{in} = 2.21\\pi e n_{n}\\sqrt{\\frac{ \\gamma_n m_{n} }{m_{i} \\left(m_{i} + m_{n}\\right)}}$$"
   ]
  },
  {
   "cell_type": "markdown",
   "metadata": {},
   "source": [
    "where $\\gamma_n$ is the \"neutral gas polarizability\", a constant available in table 4.1. However, $\\gamma_n$ is reported in CGS units in table 4.1. Also, in `msis.py`, we have opted to use AMU instead of kilograms. As a result, we cannot simply use the above equation as is without including some unit conversions.\n",
    "\n",
    "## Unit Conversions\n",
    "\n",
    "### Polarizability\n",
    "Polarizability has units of $[\\text{C}\\text{m}^2\\text{V}^{-1}]$ and $\\gamma_n$ exists inside of a square-root in $\\nu_{in}$, so a slightly more convenient thing to do is to look at converting the product of $\\gamma_n e^{2}$ from CGS to SI instead. In CGS:\n",
    "* $\\gamma_n$ units of $[\\text{cm}^{3}]$\n",
    "* $e^2$ has units of $[\\text{cm}^{3/2}\\text{g}^{1/2}\\text{s}^{-1}]$\n",
    "* $\\gamma_n e^2$ has units of $[\\text{cm}^6 \\text{g}\\text{s}^{-1}]$\n",
    "\n",
    "So converting the product to SI units yields:\n",
    "\n",
    "$[\\text{cm}^6 \\text{g}\\text{s}^{-1}] = 10^{-15}[\\text{m}^6 \\text{kg}\\text{s}^{-1}]$\n",
    "\n",
    "therefore:\n",
    "\n",
    "$(\\gamma_n e^2)_{CGS} = 10^{-15}(\\gamma_n e^2)_{SI}$\n",
    "\n",
    "### Mass\n",
    "Finally, we need to convert the masses from $[\\text{kg}]$ to $[\\text{AMU}]$, which is accomplished with a conversion factor of $1.66054\\times 10^{-27}$\n",
    "\n",
    "# This is my final form:\n",
    "\n",
    "Defining a constant, C, which includes both unit conversions and the constants $2.21\\pi$:\n",
    "\n",
    "$C = 2.21\\pi e \\sqrt{\\frac{10^{-15}}{1.66054e-27}}$"
   ]
  },
  {
   "cell_type": "code",
   "execution_count": 1,
   "metadata": {},
   "outputs": [
    {
     "name": "stdout",
     "output_type": "stream",
     "text": [
      "C = 0.00258790619679528\n"
     ]
    }
   ],
   "source": [
    "import math\n",
    "C = 2.21*math.pi*4.8032042510e-10*math.sqrt((1e-15)/(1.66054e-27))\n",
    "print('C = %s' % str(C))"
   ]
  },
  {
   "cell_type": "markdown",
   "metadata": {},
   "source": [
    "And the final form of the equation that is used in `msis.py` becomes:\n",
    "\n",
    "$$ \\nu_{in} = \\text{C} n_{n} \\frac{\\sqrt{\\gamma_n m_{n}} }{\\sqrt{m_{i} \\left(m_{i} + m_{n}\\right)}} $$,\n",
    "\n",
    "where $\\gamma_n$ is in units of cm$^{3}$ and masses $m_n$ and $m_i$ are in units of AMU.\n",
    "\n",
    "This is why the equations for the ion-neutral collision frequency in the `compute_ion_neutral_collfreq` are in the format that they are in."
   ]
  }
 ],
 "metadata": {
  "kernelspec": {
   "display_name": "Python 3",
   "language": "python",
   "name": "python3"
  },
  "language_info": {
   "codemirror_mode": {
    "name": "ipython",
    "version": 3
   },
   "file_extension": ".py",
   "mimetype": "text/x-python",
   "name": "python",
   "nbconvert_exporter": "python",
   "pygments_lexer": "ipython3",
   "version": "3.7.4"
  }
 },
 "nbformat": 4,
 "nbformat_minor": 4
}
